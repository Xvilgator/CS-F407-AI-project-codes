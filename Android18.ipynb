{
 "cells": [
  {
   "cell_type": "code",
   "execution_count": 19,
   "id": "ca77d7c4",
   "metadata": {},
   "outputs": [],
   "source": [
    "class SudokuSolver:\n",
    "    def __init__(self, board):\n",
    "        self.board = board\n",
    "        \n",
    "    def find_empty(self):\n",
    "        for i in range(len(self.board)):\n",
    "            for j in range(len(self.board[0])):\n",
    "                if self.board[i][j] == 0:\n",
    "                    return (i, j)\n",
    "        return None\n",
    "    \n",
    "    def valid(self, num, pos):\n",
    "        # Check the row\n",
    "        for i in range(len(self.board[0])):\n",
    "            if self.board[pos[0]][i] == num and pos[1] != i:\n",
    "                return False\n",
    "        \n",
    "        # Check the column\n",
    "        for i in range(len(self.board)):\n",
    "            if self.board[i][pos[1]] == num and pos[0] != i:\n",
    "                return False\n",
    "        \n",
    "        # Check the box\n",
    "        box_x = pos[1] // 3\n",
    "        box_y = pos[0] // 3\n",
    "        \n",
    "        for i in range(box_y * 3, box_y * 3 + 3):\n",
    "            for j in range(box_x * 3, box_x * 3 + 3):\n",
    "                if self.board[i][j] == num and (i, j) != pos:\n",
    "                    return False\n",
    "        \n",
    "        return True\n",
    "    \n",
    "    def solve(self):\n",
    "        find = self.find_empty()\n",
    "        if not find:\n",
    "            return True\n",
    "        else:\n",
    "            row, col = find\n",
    "        \n",
    "        for i in range(1, 10):\n",
    "            if self.valid(i, (row, col)):\n",
    "                self.board[row][col] = i\n",
    "                \n",
    "                if self.solve():\n",
    "                    return True\n",
    "                \n",
    "                self.board[row][col] = 0\n",
    "        \n",
    "        return False\n"
   ]
  },
  {
   "cell_type": "code",
   "execution_count": 20,
   "id": "b9970a62",
   "metadata": {},
   "outputs": [
    {
     "name": "stdout",
     "output_type": "stream",
     "text": [
      "4 3 5  | 2 6 9  | 7 8 1\n",
      "6 8 2  | 5 7 1  | 4 9 3\n",
      "1 9 7  | 8 3 4  | 5 6 2\n",
      "- - - - - - - - - - - - - \n",
      "8 2 6  | 1 9 5  | 3 4 7\n",
      "3 7 4  | 6 8 2  | 9 1 5\n",
      "9 5 1  | 7 4 3  | 6 2 8\n",
      "- - - - - - - - - - - - - \n",
      "5 1 9  | 3 2 6  | 8 7 4\n",
      "2 4 8  | 9 5 7  | 1 3 6\n",
      "7 6 3  | 4 1 8  | 2 5 9\n"
     ]
    }
   ],
   "source": [
    "board = [\n",
    "    [0, 0, 0, 2, 6, 0, 7, 0, 1],\n",
    "    [6, 8, 0, 0, 7, 0, 0, 9, 0],\n",
    "    [1, 9, 0, 0, 0, 4, 5, 0, 0],\n",
    "    [8, 2, 0, 1, 0, 0, 0, 4, 0],\n",
    "    [0, 0, 4, 6, 0, 2, 9, 0, 0],\n",
    "    [0, 5, 0, 0, 0, 3, 0, 2, 8],\n",
    "    [0, 0, 9, 3, 0, 0, 0, 7, 4],\n",
    "    [0, 4, 0, 0, 5, 0, 0, 3, 6],\n",
    "    [7, 0, 3, 0, 1, 8, 0, 0, 0]\n",
    "] \n",
    "\n",
    "solver = SudokuSolver(board)\n",
    "solver.solve()\n",
    "def pattern_grid(grid):\n",
    "    for i in range(9):\n",
    "        if i % 3 == 0 and i != 0:\n",
    "            print(\"- - - - - - - - - - - - - \")\n",
    "        for j in range(9):\n",
    "            if j % 3 == 0 and j != 0:\n",
    "                print(\" | \", end=\"\")\n",
    "            if j == 8:\n",
    "                print(grid[i][j])\n",
    "            else:\n",
    "                print(str(grid[i][j]) + \" \", end=\"\")\n",
    "pattern_grid(board)"
   ]
  },
  {
   "cell_type": "code",
   "execution_count": null,
   "id": "3ebd7461",
   "metadata": {},
   "outputs": [],
   "source": []
  }
 ],
 "metadata": {
  "kernelspec": {
   "display_name": "Python 3",
   "language": "python",
   "name": "python3"
  },
  "language_info": {
   "codemirror_mode": {
    "name": "ipython",
    "version": 3
   },
   "file_extension": ".py",
   "mimetype": "text/x-python",
   "name": "python",
   "nbconvert_exporter": "python",
   "pygments_lexer": "ipython3",
   "version": "3.8.8"
  }
 },
 "nbformat": 4,
 "nbformat_minor": 5
}
